{
  "nbformat": 4,
  "nbformat_minor": 0,
  "metadata": {
    "colab": {
      "name": "REAL TIME STOCK DATA ANALYSIS",
      "provenance": [],
      "collapsed_sections": [],
      "authorship_tag": "ABX9TyMWjy6Qfnyg3xty+4594/um",
      "include_colab_link": true
    },
    "kernelspec": {
      "name": "python3",
      "display_name": "Python 3"
    }
  },
  "cells": [
    {
      "cell_type": "markdown",
      "metadata": {
        "id": "view-in-github",
        "colab_type": "text"
      },
      "source": [
        "<a href=\"https://colab.research.google.com/github/k-avya/Web-scraping/blob/master/REAL_TIME_STOCK_DATA_ANALYSIS.ipynb\" target=\"_parent\"><img src=\"https://colab.research.google.com/assets/colab-badge.svg\" alt=\"Open In Colab\"/></a>"
      ]
    },
    {
      "cell_type": "code",
      "metadata": {
        "id": "uReu_L1k21bx",
        "outputId": "c4d62888-bf45-49d6-c0eb-35a501a7a933",
        "colab": {
          "base_uri": "https://localhost:8080/",
          "height": 592
        }
      },
      "source": [
        "!pip install alpha_vantage"
      ],
      "execution_count": null,
      "outputs": [
        {
          "output_type": "stream",
          "text": [
            "Collecting alpha_vantage\n",
            "  Downloading https://files.pythonhosted.org/packages/12/e3/72ec32d859a363c2eebaa42e0d4abb5ac7172a7a77a2307576ceb5fc1b42/alpha_vantage-2.2.0.tar.gz\n",
            "Collecting aiohttp\n",
            "\u001b[?25l  Downloading https://files.pythonhosted.org/packages/7c/39/7eb5f98d24904e0f6d3edb505d4aa60e3ef83c0a58d6fe18244a51757247/aiohttp-3.6.2-cp36-cp36m-manylinux1_x86_64.whl (1.2MB)\n",
            "\u001b[K     |████████████████████████████████| 1.2MB 4.0MB/s \n",
            "\u001b[?25hRequirement already satisfied: requests in /usr/local/lib/python3.6/dist-packages (from alpha_vantage) (2.23.0)\n",
            "Collecting yarl<2.0,>=1.0\n",
            "\u001b[?25l  Downloading https://files.pythonhosted.org/packages/01/c9/379b807a9c298b9694d0af8ee4260be7d40ab1a11fb9d4ae9e70b1e69d96/yarl-1.6.0-cp36-cp36m-manylinux1_x86_64.whl (257kB)\n",
            "\u001b[K     |████████████████████████████████| 266kB 17.7MB/s \n",
            "\u001b[?25hCollecting async-timeout<4.0,>=3.0\n",
            "  Downloading https://files.pythonhosted.org/packages/e1/1e/5a4441be21b0726c4464f3f23c8b19628372f606755a9d2e46c187e65ec4/async_timeout-3.0.1-py3-none-any.whl\n",
            "Collecting idna-ssl>=1.0; python_version < \"3.7\"\n",
            "  Downloading https://files.pythonhosted.org/packages/46/03/07c4894aae38b0de52b52586b24bf189bb83e4ddabfe2e2c8f2419eec6f4/idna-ssl-1.1.0.tar.gz\n",
            "Collecting multidict<5.0,>=4.5\n",
            "\u001b[?25l  Downloading https://files.pythonhosted.org/packages/1a/95/f50352b5366e7d579e8b99631680a9e32e1b22adfa1629a8f23b1d22d5e2/multidict-4.7.6-cp36-cp36m-manylinux1_x86_64.whl (148kB)\n",
            "\u001b[K     |████████████████████████████████| 153kB 15.7MB/s \n",
            "\u001b[?25hRequirement already satisfied: attrs>=17.3.0 in /usr/local/lib/python3.6/dist-packages (from aiohttp->alpha_vantage) (20.2.0)\n",
            "Requirement already satisfied: chardet<4.0,>=2.0 in /usr/local/lib/python3.6/dist-packages (from aiohttp->alpha_vantage) (3.0.4)\n",
            "Requirement already satisfied: typing-extensions>=3.6.5; python_version < \"3.7\" in /usr/local/lib/python3.6/dist-packages (from aiohttp->alpha_vantage) (3.7.4.3)\n",
            "Requirement already satisfied: idna<3,>=2.5 in /usr/local/lib/python3.6/dist-packages (from requests->alpha_vantage) (2.10)\n",
            "Requirement already satisfied: urllib3!=1.25.0,!=1.25.1,<1.26,>=1.21.1 in /usr/local/lib/python3.6/dist-packages (from requests->alpha_vantage) (1.24.3)\n",
            "Requirement already satisfied: certifi>=2017.4.17 in /usr/local/lib/python3.6/dist-packages (from requests->alpha_vantage) (2020.6.20)\n",
            "Building wheels for collected packages: alpha-vantage, idna-ssl\n",
            "  Building wheel for alpha-vantage (setup.py) ... \u001b[?25l\u001b[?25hdone\n",
            "  Created wheel for alpha-vantage: filename=alpha_vantage-2.2.0-cp36-none-any.whl size=25706 sha256=7d35498aebc6a84238e18125a7bcd9c7dad8d58cb61722d8dcc4b5bacbc6ca77\n",
            "  Stored in directory: /root/.cache/pip/wheels/3a/fa/05/80b0afcbd2a4de8bd2a0c5cd77084e3d3a9cc12c48be9b7f84\n",
            "  Building wheel for idna-ssl (setup.py) ... \u001b[?25l\u001b[?25hdone\n",
            "  Created wheel for idna-ssl: filename=idna_ssl-1.1.0-cp36-none-any.whl size=3161 sha256=c6d3d77750db5e0efc4a78a72b49ada4ca3e4756aac946460e29db153989ab5e\n",
            "  Stored in directory: /root/.cache/pip/wheels/d3/00/b3/32d613e19e08a739751dd6bf998cfed277728f8b2127ad4eb7\n",
            "Successfully built alpha-vantage idna-ssl\n",
            "Installing collected packages: multidict, yarl, async-timeout, idna-ssl, aiohttp, alpha-vantage\n",
            "Successfully installed aiohttp-3.6.2 alpha-vantage-2.2.0 async-timeout-3.0.1 idna-ssl-1.1.0 multidict-4.7.6 yarl-1.6.0\n"
          ],
          "name": "stdout"
        }
      ]
    },
    {
      "cell_type": "code",
      "metadata": {
        "id": "qhQ4MWar-y5F"
      },
      "source": [
        "api_key='ILU291DGNA63U2F3'"
      ],
      "execution_count": null,
      "outputs": []
    },
    {
      "cell_type": "code",
      "metadata": {
        "id": "22TDeMjA_hxj"
      },
      "source": [
        "import pandas as pd"
      ],
      "execution_count": null,
      "outputs": []
    },
    {
      "cell_type": "code",
      "metadata": {
        "id": "8VEce0ClXKxX"
      },
      "source": [
        "from alpha_vantage.timeseries import TimeSeries"
      ],
      "execution_count": null,
      "outputs": []
    },
    {
      "cell_type": "code",
      "metadata": {
        "id": "Ndm9q2jkXlLL"
      },
      "source": [
        "import time"
      ],
      "execution_count": null,
      "outputs": []
    },
    {
      "cell_type": "code",
      "metadata": {
        "id": "L7o16cjbXpiC"
      },
      "source": [
        "ts= TimeSeries(key=api_key, output_format='pandas')"
      ],
      "execution_count": null,
      "outputs": []
    },
    {
      "cell_type": "code",
      "metadata": {
        "id": "F-PludErYHPH"
      },
      "source": [
        "data, meta_data= ts.get_intraday(symbol='MSFT', interval='5min', outputsize='full')"
      ],
      "execution_count": null,
      "outputs": []
    },
    {
      "cell_type": "code",
      "metadata": {
        "id": "oP15xCFGYr89",
        "outputId": "3e8bdceb-6648-4e84-8486-4f1effd6dc18",
        "colab": {
          "base_uri": "https://localhost:8080/",
          "height": 277
        }
      },
      "source": [
        "print(data)"
      ],
      "execution_count": null,
      "outputs": [
        {
          "output_type": "stream",
          "text": [
            "                     1. open  2. high  3. low  4. close  5. volume\n",
            "date                                                              \n",
            "2020-09-28 20:00:00   210.93   211.00  210.90    210.95     7505.0\n",
            "2020-09-28 19:55:00   210.72   210.95  210.66    210.94     6972.0\n",
            "2020-09-28 19:50:00   210.63   210.95  210.63    210.71     2968.0\n",
            "2020-09-28 19:45:00   210.83   210.85  210.83    210.83     2219.0\n",
            "2020-09-28 19:35:00   210.55   210.55  210.55    210.55      270.0\n",
            "...                      ...      ...     ...       ...        ...\n",
            "2020-08-31 04:25:00   223.19   223.19  223.18    223.18     1365.0\n",
            "2020-08-31 04:20:00   223.19   223.19  223.00    223.19     2871.0\n",
            "2020-08-31 04:15:00   223.00   224.00  223.00    223.40     5212.0\n",
            "2020-08-31 04:10:00   222.67   222.67  222.00    222.02     8540.0\n",
            "2020-08-31 04:05:00   228.00   228.00  223.00    223.00    12925.0\n",
            "\n",
            "[3581 rows x 5 columns]\n"
          ],
          "name": "stdout"
        }
      ]
    },
    {
      "cell_type": "code",
      "metadata": {
        "id": "B6eVme1nbh4d"
      },
      "source": [
        "close_data = data['4. close']\n"
      ],
      "execution_count": null,
      "outputs": []
    },
    {
      "cell_type": "code",
      "metadata": {
        "id": "bejO4zI0bs4O"
      },
      "source": [
        "percentage_change = close_data.pct_change()"
      ],
      "execution_count": null,
      "outputs": []
    },
    {
      "cell_type": "code",
      "metadata": {
        "id": "wx-ShuHtcHuX",
        "outputId": "20d9b71b-ca95-41ca-875c-250570d792d2",
        "colab": {
          "base_uri": "https://localhost:8080/",
          "height": 243
        }
      },
      "source": [
        "print(percentage_change)"
      ],
      "execution_count": null,
      "outputs": [
        {
          "output_type": "stream",
          "text": [
            "date\n",
            "2020-09-28 20:00:00         NaN\n",
            "2020-09-28 19:55:00   -0.000047\n",
            "2020-09-28 19:50:00   -0.001090\n",
            "2020-09-28 19:45:00    0.000570\n",
            "2020-09-28 19:35:00   -0.001328\n",
            "                         ...   \n",
            "2020-08-31 04:25:00    0.000359\n",
            "2020-08-31 04:20:00    0.000045\n",
            "2020-08-31 04:15:00    0.000941\n",
            "2020-08-31 04:10:00   -0.006177\n",
            "2020-08-31 04:05:00    0.004414\n",
            "Name: 4. close, Length: 3581, dtype: float64\n"
          ],
          "name": "stdout"
        }
      ]
    },
    {
      "cell_type": "code",
      "metadata": {
        "id": "YYfZQBRVcO58",
        "outputId": "b89b0e56-6c3b-4ee0-9b9e-4a4da433b90a",
        "colab": {
          "base_uri": "https://localhost:8080/",
          "height": 35
        }
      },
      "source": [
        "last_change = percentage_change[-1]\n",
        "print(last_change)"
      ],
      "execution_count": null,
      "outputs": [
        {
          "output_type": "stream",
          "text": [
            "0.00441401675524733\n"
          ],
          "name": "stdout"
        }
      ]
    },
    {
      "cell_type": "code",
      "metadata": {
        "id": "NOmKP9UmchSE",
        "outputId": "4e70e634-e97a-43d9-b971-f0bea291054c",
        "colab": {
          "base_uri": "https://localhost:8080/",
          "height": 52
        }
      },
      "source": [
        "if abs(last_change)>0.0004:\n",
        "  print(\"MSFT Alert:  \")\n",
        "  print(last_change)"
      ],
      "execution_count": null,
      "outputs": [
        {
          "output_type": "stream",
          "text": [
            "MSFT Alert:  \n",
            "0.00441401675524733\n"
          ],
          "name": "stdout"
        }
      ]
    },
    {
      "cell_type": "markdown",
      "metadata": {
        "id": "---Cgki_h1BL"
      },
      "source": [
        "VISUALIZING STOCK DATA FOR ALGORITHMIC TRADING\n"
      ]
    },
    {
      "cell_type": "code",
      "metadata": {
        "id": "m4nDbFT1fVq3",
        "outputId": "eb178749-0bff-4e2a-9701-15331b854eb8",
        "colab": {
          "base_uri": "https://localhost:8080/",
          "height": 297
        }
      },
      "source": [
        "!pip install iexfinance"
      ],
      "execution_count": null,
      "outputs": [
        {
          "output_type": "stream",
          "text": [
            "Collecting iexfinance\n",
            "\u001b[?25l  Downloading https://files.pythonhosted.org/packages/1c/5a/ea97aa0b1581352fe1019105d69dddec25a9f0c331b7c1136ee76ae50589/iexfinance-0.4.3-py3-none-any.whl (51kB)\n",
            "\r\u001b[K     |██████▍                         | 10kB 17.1MB/s eta 0:00:01\r\u001b[K     |████████████▉                   | 20kB 1.7MB/s eta 0:00:01\r\u001b[K     |███████████████████▎            | 30kB 2.2MB/s eta 0:00:01\r\u001b[K     |█████████████████████████▊      | 40kB 2.5MB/s eta 0:00:01\r\u001b[K     |████████████████████████████████| 51kB 1.4MB/s \n",
            "\u001b[?25hRequirement already satisfied: pandas in /usr/local/lib/python3.6/dist-packages (from iexfinance) (1.0.5)\n",
            "Requirement already satisfied: requests in /usr/local/lib/python3.6/dist-packages (from iexfinance) (2.23.0)\n",
            "Requirement already satisfied: pytz>=2017.2 in /usr/local/lib/python3.6/dist-packages (from pandas->iexfinance) (2018.9)\n",
            "Requirement already satisfied: python-dateutil>=2.6.1 in /usr/local/lib/python3.6/dist-packages (from pandas->iexfinance) (2.8.1)\n",
            "Requirement already satisfied: numpy>=1.13.3 in /usr/local/lib/python3.6/dist-packages (from pandas->iexfinance) (1.18.5)\n",
            "Requirement already satisfied: urllib3!=1.25.0,!=1.25.1,<1.26,>=1.21.1 in /usr/local/lib/python3.6/dist-packages (from requests->iexfinance) (1.24.3)\n",
            "Requirement already satisfied: certifi>=2017.4.17 in /usr/local/lib/python3.6/dist-packages (from requests->iexfinance) (2020.6.20)\n",
            "Requirement already satisfied: chardet<4,>=3.0.2 in /usr/local/lib/python3.6/dist-packages (from requests->iexfinance) (3.0.4)\n",
            "Requirement already satisfied: idna<3,>=2.5 in /usr/local/lib/python3.6/dist-packages (from requests->iexfinance) (2.10)\n",
            "Requirement already satisfied: six>=1.5 in /usr/local/lib/python3.6/dist-packages (from python-dateutil>=2.6.1->pandas->iexfinance) (1.15.0)\n",
            "Installing collected packages: iexfinance\n",
            "Successfully installed iexfinance-0.4.3\n"
          ],
          "name": "stdout"
        }
      ]
    },
    {
      "cell_type": "markdown",
      "metadata": {
        "id": "Z_kwqljzSik_"
      },
      "source": [
        "**VISUALIZATION OF THE STOCK**"
      ]
    },
    {
      "cell_type": "code",
      "metadata": {
        "id": "eRlbH6Thg70m"
      },
      "source": [
        "import pandas as pd\n",
        "from iexfinance.stocks import Stock\n",
        "from datetime import datetime\n",
        "import matplotlib.pyplot as plt\n",
        "from iexfinance.stocks import get_historical_data"
      ],
      "execution_count": null,
      "outputs": []
    },
    {
      "cell_type": "code",
      "metadata": {
        "id": "OqM1C1yUhykw"
      },
      "source": [
        "import matplotlib.animation as animation\n",
        "from matplotlib import style"
      ],
      "execution_count": null,
      "outputs": []
    },
    {
      "cell_type": "code",
      "metadata": {
        "id": "n2taH3fui_X-"
      },
      "source": [
        "style.use('fivethirtyeight')"
      ],
      "execution_count": null,
      "outputs": []
    },
    {
      "cell_type": "code",
      "metadata": {
        "id": "5I_hT4yOjStt",
        "outputId": "55abb250-86eb-4741-8253-411124172e9c",
        "colab": {
          "base_uri": "https://localhost:8080/",
          "height": 35
        }
      },
      "source": [
        "fig = plt.figure()"
      ],
      "execution_count": null,
      "outputs": [
        {
          "output_type": "display_data",
          "data": {
            "text/plain": [
              "<Figure size 432x288 with 0 Axes>"
            ]
          },
          "metadata": {
            "tags": []
          }
        }
      ]
    },
    {
      "cell_type": "code",
      "metadata": {
        "id": "A86PV7RUqx8m"
      },
      "source": [
        "data, meta_data= ts.get_intraday(symbol='MSFT',interval='5min', outputsize='full')\n",
        "data2, meta_data= ts.get_intraday(symbol='IBM', interval='5min', outputsize='full')\n"
      ],
      "execution_count": null,
      "outputs": []
    },
    {
      "cell_type": "code",
      "metadata": {
        "id": "HYcFE2jktXh5",
        "outputId": "089f6da3-2390-4e2f-fbba-a8cc834ab5bf",
        "colab": {
          "base_uri": "https://localhost:8080/",
          "height": 277
        }
      },
      "source": [
        "print(data2)"
      ],
      "execution_count": null,
      "outputs": [
        {
          "output_type": "stream",
          "text": [
            "                      1. open   2. high    3. low  4. close  5. volume\n",
            "date                                                                  \n",
            "2020-09-28 16:15:00  121.7178  121.7178  121.7178  121.7178     2223.0\n",
            "2020-09-28 16:10:00  121.7300  121.7300  121.7300  121.7300    19156.0\n",
            "2020-09-28 16:05:00  121.7300  121.7300  121.7300  121.7300   216140.0\n",
            "2020-09-28 16:00:00  121.5600  121.7900  121.4200  121.7300   249170.0\n",
            "2020-09-28 15:55:00  121.4900  121.5850  121.4300  121.5600    94430.0\n",
            "...                       ...       ...       ...       ...        ...\n",
            "2020-08-31 08:15:00  125.0500  125.0500  125.0500  125.0500      100.0\n",
            "2020-08-31 08:05:00  125.3000  125.3000  125.0000  125.1000     3312.0\n",
            "2020-08-31 07:15:00  125.0000  125.0000  124.9500  124.9500     1400.0\n",
            "2020-08-31 07:10:00  125.3000  125.3000  125.3000  125.3000      200.0\n",
            "2020-08-31 07:05:00  125.3000  125.3000  125.3000  125.3000      157.0\n",
            "\n",
            "[2033 rows x 5 columns]\n"
          ],
          "name": "stdout"
        }
      ]
    },
    {
      "cell_type": "code",
      "metadata": {
        "id": "3-rxVSDJutp6"
      },
      "source": [
        "import pandas as pd\n",
        "from alpha_vantage.techindicators import TechIndicators\n",
        "import matplotlib.pyplot as plt\n"
      ],
      "execution_count": null,
      "outputs": []
    },
    {
      "cell_type": "code",
      "metadata": {
        "id": "tG5lfwqavJDa"
      },
      "source": [
        "api_key = \"ILU291DGNA63U2F3\""
      ],
      "execution_count": null,
      "outputs": []
    },
    {
      "cell_type": "code",
      "metadata": {
        "id": "zfhEW4WDveVM"
      },
      "source": [
        "period = 60\n",
        "ti= TechIndicators(key=api_key,output_format=\"pandas\")\n",
        "data_ti, meta_data_ti = ti.get_rsi(symbol='IBM', interval='1min', time_period=60 , series_type= 'close')"
      ],
      "execution_count": 79,
      "outputs": []
    },
    {
      "cell_type": "code",
      "metadata": {
        "id": "-cTDQM5iC6Gv"
      },
      "source": [
        "data_sma , meta_data_sma = ti.get_sma(symbol='IBM', interval='1min', time_period=60 , series_type= 'close')"
      ],
      "execution_count": 80,
      "outputs": []
    },
    {
      "cell_type": "code",
      "metadata": {
        "id": "nN8ZlA2-DgSU"
      },
      "source": [
        "df1 = data_sma.iloc[1::]\n",
        "df2 = data_ti\n",
        "df1.index =df2.index"
      ],
      "execution_count": 81,
      "outputs": []
    },
    {
      "cell_type": "code",
      "metadata": {
        "id": "7zakd09LD-0o",
        "outputId": "eb4fd252-5625-4a76-d94a-e68c7d5601d0",
        "colab": {
          "base_uri": "https://localhost:8080/",
          "height": 303
        }
      },
      "source": [
        "fig, ax1= plt.subplots()\n",
        "ax1.plot(df1,'b-')\n",
        "ax2=ax1.twinx()\n",
        "ax2.plot(df2,'r.')\n",
        "plt.title('SMA and RSI graph')\n",
        "plt.show()"
      ],
      "execution_count": 83,
      "outputs": [
        {
          "output_type": "display_data",
          "data": {
            "image/png": "[encoded data removed]",
            "text/plain": [
              "<Figure size 432x288 with 2 Axes>"
            ]
          },
          "metadata": {
            "tags": []
          }
        }
      ]
    },
    {
      "cell_type": "code",
      "metadata": {
        "id": "YF7i9gtKIRT-",
        "outputId": "e1d2123e-5d27-468b-cb0c-643163e08773",
        "colab": {
          "base_uri": "https://localhost:8080/",
          "height": 542
        }
      },
      "source": [
        "import plotly.express as px\n",
        "import pandas as pd\n",
        "\n",
        "df = pd.read_csv('https://raw.githubusercontent.com/plotly/datasets/master/finance-charts-apple.csv')\n",
        "\n",
        "fig = px.scatter(df, x='Date', y='AAPL.High', range_x=['2015-12-01', '2016-01-15'],\n",
        "                 title=\"Default Display with Gaps\")\n",
        "fig.show()"
      ],
      "execution_count": 93,
      "outputs": [
        {
          "output_type": "display_data",
          "data": {
            "text/html": [
              "<html>\n",
              "<head><meta charset=\"utf-8\" /></head>\n",
              "<body>\n",
              "    <div>\n",
              "            <script src=\"https://cdnjs.cloudflare.com/ajax/libs/mathjax/2.7.5/MathJax.js?config=TeX-AMS-MML_SVG\"></script><script type=\"text/javascript\">if (window.MathJax) {MathJax.Hub.Config({SVG: {font: \"STIX-Web\"}});}</script>\n",
              "                <script type=\"text/javascript\">window.PlotlyConfig = {MathJaxConfig: 'local'};</script>\n",
              "        <script src=\"https://cdn.plot.ly/plotly-latest.min.js\"></script>    \n",
              "            <div id=\"6c495c28-f5ed-41ad-8050-f78a8157e623\" class=\"plotly-graph-div\" style=\"height:525px; width:100%;\"></div>\n",
              "            <script type=\"text/javascript\">\n",
              "                \n",
              "                    window.PLOTLYENV=window.PLOTLYENV || {};\n",
              "                    \n",
              "                if (document.getElementById(\"6c495c28-f5ed-41ad-8050-f78a8157e623\")) {\n",
              "                    Plotly.newPlot(\n",
              "                        '6c495c28-f5ed-41ad-8050-f78a8157e623',\n",
              "                        [{\"hoverlabel\": {\"namelength\": 0}, \"hovertemplate\": \"Date=%{x}<br>AAPL.High=%{y}\", \"legendgroup\": \"\", \"marker\": {\"color\": \"#636efa\", \"symbol\": \"circle\"}, \"mode\": \"markers\", \"name\": \"\", \"showlegend\": false, \"type\": \"scatter\", \"x\": [\"2015-02-17\", \"2015-02-18\", \"2015-02-19\", \"2015-02-20\", \"2015-02-23\", \"2015-02-24\", \"2015-02-25\", \"2015-02-26\", \"2015-02-27\", \"2015-03-02\", \"2015-03-03\", \"2015-03-04\", \"2015-03-05\", \"2015-03-06\", \"2015-03-09\", \"2015-03-10\", \"2015-03-11\", \"2015-03-12\", \"2015-03-13\", \"2015-03-16\", \"2015-03-17\", \"2015-03-18\", \"2015-03-19\", \"2015-03-20\", \"2015-03-23\", \"2015-03-24\", \"2015-03-25\", \"2015-03-26\", \"2015-03-27\", \"2015-03-30\", \"2015-03-31\", \"2015-04-01\", \"2015-04-02\", \"2015-04-06\", \"2015-04-07\", \"2015-04-08\", \"2015-04-09\", \"2015-04-10\", \"2015-04-13\", \"2015-04-14\", \"2015-04-15\", \"2015-04-16\", \"2015-04-17\", \"2015-04-20\", \"2015-04-21\", \"2015-04-22\", \"2015-04-23\", \"2015-04-24\", \"2015-04-27\", \"2015-04-28\", \"2015-04-29\", \"2015-04-30\", \"2015-05-01\", \"2015-05-04\", \"2015-05-05\", \"2015-05-06\", \"2015-05-07\", \"2015-05-08\", \"2015-05-11\", \"2015-05-12\", \"2015-05-13\", \"2015-05-14\", \"2015-05-15\", \"2015-05-18\", \"2015-05-19\", \"2015-05-20\", \"2015-05-21\", \"2015-05-22\", \"2015-05-26\", \"2015-05-27\", \"2015-05-28\", \"2015-05-29\", \"2015-06-01\", \"2015-06-02\", \"2015-06-03\", \"2015-06-04\", \"2015-06-05\", \"2015-06-08\", \"2015-06-09\", \"2015-06-10\", \"2015-06-11\", \"2015-06-12\", \"2015-06-15\", \"2015-06-16\", \"2015-06-17\", \"2015-06-18\", \"2015-06-19\", \"2015-06-22\", \"2015-06-23\", \"2015-06-24\", \"2015-06-25\", \"2015-06-26\", \"2015-06-29\", \"2015-06-30\", \"2015-07-01\", \"2015-07-02\", \"2015-07-06\", \"2015-07-07\", \"2015-07-08\", \"2015-07-09\", \"2015-07-10\", \"2015-07-13\", \"2015-07-14\", \"2015-07-15\", \"2015-07-16\", \"2015-07-17\", \"2015-07-20\", \"2015-07-21\", \"2015-07-22\", \"2015-07-23\", \"2015-07-24\", \"2015-07-27\", \"2015-07-28\", \"2015-07-29\", \"2015-07-30\", \"2015-07-31\", \"2015-08-03\", \"2015-08-04\", \"2015-08-05\", \"2015-08-06\", \"2015-08-07\", \"2015-08-10\", \"2015-08-11\", \"2015-08-12\", \"2015-08-13\", \"2015-08-14\", \"2015-08-17\", \"2015-08-18\", \"2015-08-19\", \"2015-08-20\", \"2015-08-21\", \"2015-08-24\", \"2015-08-25\", \"2015-08-26\", \"2015-08-27\", \"2015-08-28\", \"2015-08-31\", \"2015-09-01\", \"2015-09-02\", \"2015-09-03\", \"2015-09-04\", \"2015-09-08\", \"2015-09-09\", \"2015-09-10\", \"2015-09-11\", \"2015-09-14\", \"2015-09-15\", \"2015-09-16\", \"2015-09-17\", \"2015-09-18\", \"2015-09-21\", \"2015-09-22\", \"2015-09-23\", \"2015-09-24\", \"2015-09-25\", \"2015-09-28\", \"2015-09-29\", \"2015-09-30\", \"2015-10-01\", \"2015-10-02\", \"2015-10-05\", \"2015-10-06\", \"2015-10-07\", \"2015-10-08\", \"2015-10-09\", \"2015-10-12\", \"2015-10-13\", \"2015-10-14\", \"2015-10-15\", \"2015-10-16\", \"2015-10-19\", \"2015-10-20\", \"2015-10-21\", \"2015-10-22\", \"2015-10-23\", \"2015-10-26\", \"2015-10-27\", \"2015-10-28\", \"2015-10-29\", \"2015-10-30\", \"2015-11-02\", \"2015-11-03\", \"2015-11-04\", \"2015-11-05\", \"2015-11-06\", \"2015-11-09\", \"2015-11-10\", \"2015-11-11\", \"2015-11-12\", \"2015-11-13\", \"2015-11-16\", \"2015-11-17\", \"2015-11-18\", \"2015-11-19\", \"2015-11-20\", \"2015-11-23\", \"2015-11-24\", \"2015-11-25\", \"2015-11-27\", \"2015-11-30\", \"2015-12-01\", \"2015-12-02\", \"2015-12-03\", \"2015-12-04\", \"2015-12-07\", \"2015-12-08\", \"2015-12-09\", \"2015-12-10\", \"2015-12-11\", \"2015-12-14\", \"2015-12-15\", \"2015-12-16\", \"2015-12-17\", \"2015-12-18\", \"2015-12-21\", \"2015-12-22\", \"2015-12-23\", \"2015-12-24\", \"2015-12-28\", \"2015-12-29\", \"2015-12-30\", \"2015-12-31\", \"2016-01-04\", \"2016-01-05\", \"2016-01-06\", \"2016-01-07\", \"2016-01-08\", \"2016-01-11\", \"2016-01-12\", \"2016-01-13\", \"2016-01-14\", \"2016-01-15\", \"2016-01-19\", \"2016-01-20\", \"2016-01-21\", \"2016-01-22\", \"2016-01-25\", \"2016-01-26\", \"2016-01-27\", \"2016-01-28\", \"2016-01-29\", \"2016-02-01\", \"2016-02-02\", \"2016-02-03\", \"2016-02-04\", \"2016-02-05\", \"2016-02-08\", \"2016-02-09\", \"2016-02-10\", \"2016-02-11\", \"2016-02-12\", \"2016-02-16\", \"2016-02-17\", \"2016-02-18\", \"2016-02-19\", \"2016-02-22\", \"2016-02-23\", \"2016-02-24\", \"2016-02-25\", \"2016-02-26\", \"2016-02-29\", \"2016-03-01\", \"2016-03-02\", \"2016-03-03\", \"2016-03-04\", \"2016-03-07\", \"2016-03-08\", \"2016-03-09\", \"2016-03-10\", \"2016-03-11\", \"2016-03-14\", \"2016-03-15\", \"2016-03-16\", \"2016-03-17\", \"2016-03-18\", \"2016-03-21\", \"2016-03-22\", \"2016-03-23\", \"2016-03-24\", \"2016-03-28\", \"2016-03-29\", \"2016-03-30\", \"2016-03-31\", \"2016-04-01\", \"2016-04-04\", \"2016-04-05\", \"2016-04-06\", \"2016-04-07\", \"2016-04-08\", \"2016-04-11\", \"2016-04-12\", \"2016-04-13\", \"2016-04-14\", \"2016-04-15\", \"2016-04-18\", \"2016-04-19\", \"2016-04-20\", \"2016-04-21\", \"2016-04-22\", \"2016-04-25\", \"2016-04-26\", \"2016-04-27\", \"2016-04-28\", \"2016-04-29\", \"2016-05-02\", \"2016-05-03\", \"2016-05-04\", \"2016-05-05\", \"2016-05-06\", \"2016-05-09\", \"2016-05-10\", \"2016-05-11\", \"2016-05-12\", \"2016-05-13\", \"2016-05-16\", \"2016-05-17\", \"2016-05-18\", \"2016-05-19\", \"2016-05-20\", \"2016-05-23\", \"2016-05-24\", \"2016-05-25\", \"2016-05-26\", \"2016-05-27\", \"2016-05-31\", \"2016-06-01\", \"2016-06-02\", \"2016-06-03\", \"2016-06-06\", \"2016-06-07\", \"2016-06-08\", \"2016-06-09\", \"2016-06-10\", \"2016-06-13\", \"2016-06-14\", \"2016-06-15\", \"2016-06-16\", \"2016-06-17\", \"2016-06-20\", \"2016-06-21\", \"2016-06-22\", \"2016-06-23\", \"2016-06-24\", \"2016-06-27\", \"2016-06-28\", \"2016-06-29\", \"2016-06-30\", \"2016-07-01\", \"2016-07-05\", \"2016-07-06\", \"2016-07-07\", \"2016-07-08\", \"2016-07-11\", \"2016-07-12\", \"2016-07-13\", \"2016-07-14\", \"2016-07-15\", \"2016-07-18\", \"2016-07-19\", \"2016-07-20\", \"2016-07-21\", \"2016-07-22\", \"2016-07-25\", \"2016-07-26\", \"2016-07-27\", \"2016-07-28\", \"2016-07-29\", \"2016-08-01\", \"2016-08-02\", \"2016-08-03\", \"2016-08-04\", \"2016-08-05\", \"2016-08-08\", \"2016-08-09\", \"2016-08-10\", \"2016-08-11\", \"2016-08-12\", \"2016-08-15\", \"2016-08-16\", \"2016-08-17\", \"2016-08-18\", \"2016-08-19\", \"2016-08-22\", \"2016-08-23\", \"2016-08-24\", \"2016-08-25\", \"2016-08-26\", \"2016-08-29\", \"2016-08-30\", \"2016-08-31\", \"2016-09-01\", \"2016-09-02\", \"2016-09-06\", \"2016-09-07\", \"2016-09-08\", \"2016-09-09\", \"2016-09-12\", \"2016-09-13\", \"2016-09-14\", \"2016-09-15\", \"2016-09-16\", \"2016-09-19\", \"2016-09-20\", \"2016-09-21\", \"2016-09-22\", \"2016-09-23\", \"2016-09-26\", \"2016-09-27\", \"2016-09-28\", \"2016-09-29\", \"2016-09-30\", \"2016-10-03\", \"2016-10-04\", \"2016-10-05\", \"2016-10-06\", \"2016-10-07\", \"2016-10-10\", \"2016-10-11\", \"2016-10-12\", \"2016-10-13\", \"2016-10-14\", \"2016-10-17\", \"2016-10-18\", \"2016-10-19\", \"2016-10-20\", \"2016-10-21\", \"2016-10-24\", \"2016-10-25\", \"2016-10-26\", \"2016-10-27\", \"2016-10-28\", \"2016-10-31\", \"2016-11-01\", \"2016-11-02\", \"2016-11-03\", \"2016-11-04\", \"2016-11-07\", \"2016-11-08\", \"2016-11-09\", \"2016-11-10\", \"2016-11-11\", \"2016-11-14\", \"2016-11-15\", \"2016-11-16\", \"2016-11-17\", \"2016-11-18\", \"2016-11-21\", \"2016-11-22\", \"2016-11-23\", \"2016-11-25\", \"2016-11-28\", \"2016-11-29\", \"2016-11-30\", \"2016-12-01\", \"2016-12-02\", \"2016-12-05\", \"2016-12-06\", \"2016-12-07\", \"2016-12-08\", \"2016-12-09\", \"2016-12-12\", \"2016-12-13\", \"2016-12-14\", \"2016-12-15\", \"2016-12-16\", \"2016-12-19\", \"2016-12-20\", \"2016-12-21\", \"2016-12-22\", \"2016-12-23\", \"2016-12-27\", \"2016-12-28\", \"2016-12-29\", \"2016-12-30\", \"2017-01-03\", \"2017-01-04\", \"2017-01-05\", \"2017-01-06\", \"2017-01-09\", \"2017-01-10\", \"2017-01-11\", \"2017-01-12\", \"2017-01-13\", \"2017-01-17\", \"2017-01-18\", \"2017-01-19\", \"2017-01-20\", \"2017-01-23\", \"2017-01-24\", \"2017-01-25\", \"2017-01-26\", \"2017-01-27\", \"2017-01-30\", \"2017-01-31\", \"2017-02-01\", \"2017-02-02\", \"2017-02-03\", \"2017-02-06\", \"2017-02-07\", \"2017-02-08\", \"2017-02-09\", \"2017-02-10\", \"2017-02-13\", \"2017-02-14\", \"2017-02-15\", \"2017-02-16\"], \"xaxis\": \"x\", \"y\": [128.880005, 128.779999, 129.029999, 129.5, 133.0, 133.600006, 131.600006, 130.869995, 130.570007, 130.279999, 129.520004, 129.559998, 128.75, 129.369995, 129.570007, 127.220001, 124.769997, 124.900002, 125.400002, 124.949997, 127.32, 129.16000400000001, 129.25, 128.399994, 127.849998, 128.03999299999998, 126.82, 124.879997, 124.699997, 126.400002, 126.489998, 125.120003, 125.559998, 127.510002, 128.119995, 126.400002, 126.58000200000001, 127.209999, 128.570007, 127.290001, 127.129997, 127.099998, 126.139999, 128.119995, 128.199997, 128.869995, 130.419998, 130.630005, 133.130005, 134.53999299999998, 131.58999599999999, 128.639999, 130.130005, 130.570007, 128.449997, 126.75, 126.08000200000001, 127.620003, 127.559998, 126.879997, 127.190002, 128.949997, 129.490005, 130.720001, 130.880005, 130.979996, 131.630005, 132.970001, 132.91000400000001, 132.259995, 131.949997, 131.449997, 131.389999, 130.66000400000001, 130.940002, 130.580002, 129.690002, 129.21000700000002, 128.080002, 129.33999599999999, 130.179993, 128.330002, 127.239998, 127.849998, 127.879997, 128.309998, 127.82, 128.059998, 127.610001, 129.800003, 129.199997, 127.989998, 126.470001, 126.120003, 126.940002, 126.690002, 126.230003, 126.150002, 124.639999, 124.059998, 123.849998, 125.760002, 126.370003, 127.150002, 128.570007, 129.619995, 132.970001, 132.919998, 125.5, 127.089996, 125.739998, 123.610001, 123.910004, 123.5, 122.57, 122.639999, 122.57, 117.699997, 117.440002, 116.5, 116.25, 119.989998, 118.18, 115.41999799999999, 116.400002, 116.309998, 117.650002, 117.440002, 116.519997, 114.349998, 111.900002, 108.800003, 111.110001, 109.889999, 113.239998, 113.309998, 114.529999, 111.879997, 112.339996, 112.779999, 110.449997, 112.559998, 114.019997, 113.279999, 114.209999, 116.889999, 116.529999, 116.540001, 116.489998, 114.300003, 115.370003, 114.18, 114.720001, 115.5, 116.690002, 114.57, 113.510002, 111.540001, 109.620003, 111.010002, 111.370003, 111.739998, 111.769997, 110.190002, 112.279999, 112.75, 112.449997, 111.519997, 112.099998, 112.0, 111.75, 114.16999799999999, 115.58000200000001, 115.5, 119.230003, 118.129997, 116.540001, 119.300003, 120.690002, 121.220001, 121.360001, 123.489998, 123.82, 122.690002, 121.809998, 121.809998, 118.07, 117.41999799999999, 116.82, 115.57, 114.239998, 115.050003, 117.489998, 119.75, 119.91999799999999, 119.730003, 119.349998, 119.230003, 118.410004, 119.410004, 118.809998, 118.110001, 116.790001, 119.25, 119.860001, 118.599998, 117.690002, 116.940002, 115.389999, 112.68, 112.800003, 111.989998, 112.25, 109.519997, 107.370003, 107.720001, 108.849998, 109.0, 107.690002, 109.43, 108.699997, 107.029999, 105.370003, 105.849998, 102.370003, 100.129997, 99.110001, 99.059998, 100.690002, 101.190002, 100.480003, 97.709999, 98.650002, 98.190002, 97.879997, 101.459999, 101.529999, 100.879997, 96.629997, 94.519997, 97.339996, 96.709999, 96.040001, 96.839996, 97.33000200000001, 96.91999799999999, 95.699997, 95.940002, 96.349998, 94.720001, 94.5, 96.849998, 98.209999, 98.889999, 96.760002, 96.900002, 96.5, 96.379997, 96.760002, 98.019997, 98.230003, 100.769997, 100.889999, 101.709999, 103.75, 102.83000200000001, 101.760002, 101.58000200000001, 102.239998, 102.279999, 102.910004, 105.18, 106.309998, 106.470001, 106.5, 107.650002, 107.290001, 107.07, 106.25, 106.190002, 107.790001, 110.41999799999999, 109.900002, 110.0, 112.190002, 110.730003, 110.980003, 110.41999799999999, 109.769997, 110.610001, 110.5, 112.339996, 112.389999, 112.300003, 108.949997, 108.0, 108.089996, 106.93, 106.480003, 105.650002, 105.300003, 98.709999, 97.879997, 94.720001, 94.08000200000001, 95.739998, 95.900002, 94.07, 93.449997, 93.769997, 93.57, 93.57, 92.779999, 91.66999799999999, 94.389999, 94.699997, 95.209999, 94.639999, 95.43, 97.190002, 98.089996, 99.739998, 100.730003, 100.470001, 100.400002, 99.540001, 97.839996, 98.269997, 101.889999, 99.870003, 99.559998, 99.989998, 99.349998, 99.120003, 98.480003, 98.410004, 97.75, 96.650002, 96.57, 96.349998, 96.889999, 96.290001, 94.660004, 93.050003, 93.660004, 94.550003, 95.769997, 96.470001, 95.400002, 95.660004, 96.5, 96.889999, 97.650002, 97.699997, 97.66999799999999, 98.989998, 99.300003, 100.129997, 100.0, 100.459999, 101.0, 99.300003, 98.839996, 97.970001, 104.349998, 104.449997, 104.550003, 106.150002, 106.07, 105.839996, 106.0, 107.650002, 108.370003, 108.940002, 108.900002, 108.93, 108.440002, 109.540001, 110.230003, 109.370003, 109.599998, 109.690002, 109.099998, 109.32, 108.75, 107.879997, 107.949997, 107.440002, 106.5, 106.57, 106.800003, 108.0, 108.300003, 108.760002, 107.269997, 105.720001, 105.720001, 108.790001, 113.029999, 115.730003, 116.129997, 116.18, 114.120003, 113.989998, 114.940002, 114.790001, 113.389999, 113.18, 114.639999, 113.800003, 113.370003, 113.050003, 114.309998, 113.660004, 114.339996, 114.559998, 116.75, 118.690002, 117.980003, 117.440002, 118.16999799999999, 117.839996, 118.209999, 117.760002, 117.379997, 116.910004, 117.739998, 118.360001, 115.699997, 115.860001, 115.209999, 114.230003, 113.769997, 112.349998, 111.459999, 110.25, 110.510002, 111.720001, 111.32, 111.089996, 108.870003, 107.809998, 107.68, 110.230003, 110.349998, 110.540001, 111.989998, 112.41999799999999, 111.510002, 111.870003, 112.470001, 112.029999, 112.199997, 110.940002, 110.089996, 110.029999, 110.360001, 111.190002, 112.43, 114.699997, 115.0, 115.91999799999999, 116.199997, 116.730003, 116.5, 117.379997, 117.5, 117.400002, 116.510002, 116.519997, 117.800003, 118.019997, 117.110001, 117.199997, 116.33000200000001, 116.510002, 116.860001, 118.160004, 119.43, 119.379997, 119.93, 119.300003, 119.620003, 120.239998, 120.5, 120.089996, 120.449997, 120.809998, 120.099998, 122.099998, 122.440002, 122.349998, 121.629997, 121.389999, 130.490005, 129.389999, 129.190002, 130.5, 132.08999599999999, 132.220001, 132.449997, 132.940002, 133.820007, 135.08999599999999, 136.270004, 135.899994], \"yaxis\": \"y\"}],\n",
              "                        {\"legend\": {\"tracegroupgap\": 0}, \"template\": {\"data\": {\"bar\": [{\"error_x\": {\"color\": \"#2a3f5f\"}, \"error_y\": {\"color\": \"#2a3f5f\"}, \"marker\": {\"line\": {\"color\": \"#E5ECF6\", \"width\": 0.5}}, \"type\": \"bar\"}], \"barpolar\": [{\"marker\": {\"line\": {\"color\": \"#E5ECF6\", \"width\": 0.5}}, \"type\": \"barpolar\"}], \"carpet\": [{\"aaxis\": {\"endlinecolor\": \"#2a3f5f\", \"gridcolor\": \"white\", \"linecolor\": \"white\", \"minorgridcolor\": \"white\", \"startlinecolor\": \"#2a3f5f\"}, \"baxis\": {\"endlinecolor\": \"#2a3f5f\", \"gridcolor\": \"white\", \"linecolor\": \"white\", \"minorgridcolor\": \"white\", \"startlinecolor\": \"#2a3f5f\"}, \"type\": \"carpet\"}], \"choropleth\": [{\"colorbar\": {\"outlinewidth\": 0, \"ticks\": \"\"}, \"type\": \"choropleth\"}], \"contour\": [{\"colorbar\": {\"outlinewidth\": 0, \"ticks\": \"\"}, \"colorscale\": [[0.0, \"#0d0887\"], [0.1111111111111111, \"#46039f\"], [0.2222222222222222, \"#7201a8\"], [0.3333333333333333, \"#9c179e\"], [0.4444444444444444, \"#bd3786\"], [0.5555555555555556, \"#d8576b\"], [0.6666666666666666, \"#ed7953\"], [0.7777777777777778, \"#fb9f3a\"], [0.8888888888888888, \"#fdca26\"], [1.0, \"#f0f921\"]], \"type\": \"contour\"}], \"contourcarpet\": [{\"colorbar\": {\"outlinewidth\": 0, \"ticks\": \"\"}, \"type\": \"contourcarpet\"}], \"heatmap\": [{\"colorbar\": {\"outlinewidth\": 0, \"ticks\": \"\"}, \"colorscale\": [[0.0, \"#0d0887\"], [0.1111111111111111, \"#46039f\"], [0.2222222222222222, \"#7201a8\"], [0.3333333333333333, \"#9c179e\"], [0.4444444444444444, \"#bd3786\"], [0.5555555555555556, \"#d8576b\"], [0.6666666666666666, \"#ed7953\"], [0.7777777777777778, \"#fb9f3a\"], [0.8888888888888888, \"#fdca26\"], [1.0, \"#f0f921\"]], \"type\": \"heatmap\"}], \"heatmapgl\": [{\"colorbar\": {\"outlinewidth\": 0, \"ticks\": \"\"}, \"colorscale\": [[0.0, \"#0d0887\"], [0.1111111111111111, \"#46039f\"], [0.2222222222222222, \"#7201a8\"], [0.3333333333333333, \"#9c179e\"], [0.4444444444444444, \"#bd3786\"], [0.5555555555555556, \"#d8576b\"], [0.6666666666666666, \"#ed7953\"], [0.7777777777777778, \"#fb9f3a\"], [0.8888888888888888, \"#fdca26\"], [1.0, \"#f0f921\"]], \"type\": \"heatmapgl\"}], \"histogram\": [{\"marker\": {\"colorbar\": {\"outlinewidth\": 0, \"ticks\": \"\"}}, \"type\": \"histogram\"}], \"histogram2d\": [{\"colorbar\": {\"outlinewidth\": 0, \"ticks\": \"\"}, \"colorscale\": [[0.0, \"#0d0887\"], [0.1111111111111111, \"#46039f\"], [0.2222222222222222, \"#7201a8\"], [0.3333333333333333, \"#9c179e\"], [0.4444444444444444, \"#bd3786\"], [0.5555555555555556, \"#d8576b\"], [0.6666666666666666, \"#ed7953\"], [0.7777777777777778, \"#fb9f3a\"], [0.8888888888888888, \"#fdca26\"], [1.0, \"#f0f921\"]], \"type\": \"histogram2d\"}], \"histogram2dcontour\": [{\"colorbar\": {\"outlinewidth\": 0, \"ticks\": \"\"}, \"colorscale\": [[0.0, \"#0d0887\"], [0.1111111111111111, \"#46039f\"], [0.2222222222222222, \"#7201a8\"], [0.3333333333333333, \"#9c179e\"], [0.4444444444444444, \"#bd3786\"], [0.5555555555555556, \"#d8576b\"], [0.6666666666666666, \"#ed7953\"], [0.7777777777777778, \"#fb9f3a\"], [0.8888888888888888, \"#fdca26\"], [1.0, \"#f0f921\"]], \"type\": \"histogram2dcontour\"}], \"mesh3d\": [{\"colorbar\": {\"outlinewidth\": 0, \"ticks\": \"\"}, \"type\": \"mesh3d\"}], \"parcoords\": [{\"line\": {\"colorbar\": {\"outlinewidth\": 0, \"ticks\": \"\"}}, \"type\": \"parcoords\"}], \"pie\": [{\"automargin\": true, \"type\": \"pie\"}], \"scatter\": [{\"marker\": {\"colorbar\": {\"outlinewidth\": 0, \"ticks\": \"\"}}, \"type\": \"scatter\"}], \"scatter3d\": [{\"line\": {\"colorbar\": {\"outlinewidth\": 0, \"ticks\": \"\"}}, \"marker\": {\"colorbar\": {\"outlinewidth\": 0, \"ticks\": \"\"}}, \"type\": \"scatter3d\"}], \"scattercarpet\": [{\"marker\": {\"colorbar\": {\"outlinewidth\": 0, \"ticks\": \"\"}}, \"type\": \"scattercarpet\"}], \"scattergeo\": [{\"marker\": {\"colorbar\": {\"outlinewidth\": 0, \"ticks\": \"\"}}, \"type\": \"scattergeo\"}], \"scattergl\": [{\"marker\": {\"colorbar\": {\"outlinewidth\": 0, \"ticks\": \"\"}}, \"type\": \"scattergl\"}], \"scattermapbox\": [{\"marker\": {\"colorbar\": {\"outlinewidth\": 0, \"ticks\": \"\"}}, \"type\": \"scattermapbox\"}], \"scatterpolar\": [{\"marker\": {\"colorbar\": {\"outlinewidth\": 0, \"ticks\": \"\"}}, \"type\": \"scatterpolar\"}], \"scatterpolargl\": [{\"marker\": {\"colorbar\": {\"outlinewidth\": 0, \"ticks\": \"\"}}, \"type\": \"scatterpolargl\"}], \"scatterternary\": [{\"marker\": {\"colorbar\": {\"outlinewidth\": 0, \"ticks\": \"\"}}, \"type\": \"scatterternary\"}], \"surface\": [{\"colorbar\": {\"outlinewidth\": 0, \"ticks\": \"\"}, \"colorscale\": [[0.0, \"#0d0887\"], [0.1111111111111111, \"#46039f\"], [0.2222222222222222, \"#7201a8\"], [0.3333333333333333, \"#9c179e\"], [0.4444444444444444, \"#bd3786\"], [0.5555555555555556, \"#d8576b\"], [0.6666666666666666, \"#ed7953\"], [0.7777777777777778, \"#fb9f3a\"], [0.8888888888888888, \"#fdca26\"], [1.0, \"#f0f921\"]], \"type\": \"surface\"}], \"table\": [{\"cells\": {\"fill\": {\"color\": \"#EBF0F8\"}, \"line\": {\"color\": \"white\"}}, \"header\": {\"fill\": {\"color\": \"#C8D4E3\"}, \"line\": {\"color\": \"white\"}}, \"type\": \"table\"}]}, \"layout\": {\"annotationdefaults\": {\"arrowcolor\": \"#2a3f5f\", \"arrowhead\": 0, \"arrowwidth\": 1}, \"coloraxis\": {\"colorbar\": {\"outlinewidth\": 0, \"ticks\": \"\"}}, \"colorscale\": {\"diverging\": [[0, \"#8e0152\"], [0.1, \"#c51b7d\"], [0.2, \"#de77ae\"], [0.3, \"#f1b6da\"], [0.4, \"#fde0ef\"], [0.5, \"#f7f7f7\"], [0.6, \"#e6f5d0\"], [0.7, \"#b8e186\"], [0.8, \"#7fbc41\"], [0.9, \"#4d9221\"], [1, \"#276419\"]], \"sequential\": [[0.0, \"#0d0887\"], [0.1111111111111111, \"#46039f\"], [0.2222222222222222, \"#7201a8\"], [0.3333333333333333, \"#9c179e\"], [0.4444444444444444, \"#bd3786\"], [0.5555555555555556, \"#d8576b\"], [0.6666666666666666, \"#ed7953\"], [0.7777777777777778, \"#fb9f3a\"], [0.8888888888888888, \"#fdca26\"], [1.0, \"#f0f921\"]], \"sequentialminus\": [[0.0, \"#0d0887\"], [0.1111111111111111, \"#46039f\"], [0.2222222222222222, \"#7201a8\"], [0.3333333333333333, \"#9c179e\"], [0.4444444444444444, \"#bd3786\"], [0.5555555555555556, \"#d8576b\"], [0.6666666666666666, \"#ed7953\"], [0.7777777777777778, \"#fb9f3a\"], [0.8888888888888888, \"#fdca26\"], [1.0, \"#f0f921\"]]}, \"colorway\": [\"#636efa\", \"#EF553B\", \"#00cc96\", \"#ab63fa\", \"#FFA15A\", \"#19d3f3\", \"#FF6692\", \"#B6E880\", \"#FF97FF\", \"#FECB52\"], \"font\": {\"color\": \"#2a3f5f\"}, \"geo\": {\"bgcolor\": \"white\", \"lakecolor\": \"white\", \"landcolor\": \"#E5ECF6\", \"showlakes\": true, \"showland\": true, \"subunitcolor\": \"white\"}, \"hoverlabel\": {\"align\": \"left\"}, \"hovermode\": \"closest\", \"mapbox\": {\"style\": \"light\"}, \"paper_bgcolor\": \"white\", \"plot_bgcolor\": \"#E5ECF6\", \"polar\": {\"angularaxis\": {\"gridcolor\": \"white\", \"linecolor\": \"white\", \"ticks\": \"\"}, \"bgcolor\": \"#E5ECF6\", \"radialaxis\": {\"gridcolor\": \"white\", \"linecolor\": \"white\", \"ticks\": \"\"}}, \"scene\": {\"xaxis\": {\"backgroundcolor\": \"#E5ECF6\", \"gridcolor\": \"white\", \"gridwidth\": 2, \"linecolor\": \"white\", \"showbackground\": true, \"ticks\": \"\", \"zerolinecolor\": \"white\"}, \"yaxis\": {\"backgroundcolor\": \"#E5ECF6\", \"gridcolor\": \"white\", \"gridwidth\": 2, \"linecolor\": \"white\", \"showbackground\": true, \"ticks\": \"\", \"zerolinecolor\": \"white\"}, \"zaxis\": {\"backgroundcolor\": \"#E5ECF6\", \"gridcolor\": \"white\", \"gridwidth\": 2, \"linecolor\": \"white\", \"showbackground\": true, \"ticks\": \"\", \"zerolinecolor\": \"white\"}}, \"shapedefaults\": {\"line\": {\"color\": \"#2a3f5f\"}}, \"ternary\": {\"aaxis\": {\"gridcolor\": \"white\", \"linecolor\": \"white\", \"ticks\": \"\"}, \"baxis\": {\"gridcolor\": \"white\", \"linecolor\": \"white\", \"ticks\": \"\"}, \"bgcolor\": \"#E5ECF6\", \"caxis\": {\"gridcolor\": \"white\", \"linecolor\": \"white\", \"ticks\": \"\"}}, \"title\": {\"x\": 0.05}, \"xaxis\": {\"automargin\": true, \"gridcolor\": \"white\", \"linecolor\": \"white\", \"ticks\": \"\", \"title\": {\"standoff\": 15}, \"zerolinecolor\": \"white\", \"zerolinewidth\": 2}, \"yaxis\": {\"automargin\": true, \"gridcolor\": \"white\", \"linecolor\": \"white\", \"ticks\": \"\", \"title\": {\"standoff\": 15}, \"zerolinecolor\": \"white\", \"zerolinewidth\": 2}}}, \"title\": {\"text\": \"Default Display with Gaps\"}, \"xaxis\": {\"anchor\": \"y\", \"domain\": [0.0, 1.0], \"range\": [\"2015-12-01\", \"2016-01-15\"], \"title\": {\"text\": \"Date\"}}, \"yaxis\": {\"anchor\": \"x\", \"domain\": [0.0, 1.0], \"title\": {\"text\": \"AAPL.High\"}}},\n",
              "                        {\"responsive\": true}\n",
              "                    ).then(function(){\n",
              "                            \n",
              "var gd = document.getElementById('6c495c28-f5ed-41ad-8050-f78a8157e623');\n",
              "var x = new MutationObserver(function (mutations, observer) {{\n",
              "        var display = window.getComputedStyle(gd).display;\n",
              "        if (!display || display === 'none') {{\n",
              "            console.log([gd, 'removed!']);\n",
              "            Plotly.purge(gd);\n",
              "            observer.disconnect();\n",
              "        }}\n",
              "}});\n",
              "\n",
              "// Listen for the removal of the full notebook cells\n",
              "var notebookContainer = gd.closest('#notebook-container');\n",
              "if (notebookContainer) {{\n",
              "    x.observe(notebookContainer, {childList: true});\n",
              "}}\n",
              "\n",
              "// Listen for the clearing of the current output cell\n",
              "var outputEl = gd.closest('.output');\n",
              "if (outputEl) {{\n",
              "    x.observe(outputEl, {childList: true});\n",
              "}}\n",
              "\n",
              "                        })\n",
              "                };\n",
              "                \n",
              "            </script>\n",
              "        </div>\n",
              "</body>\n",
              "</html>"
            ]
          },
          "metadata": {
            "tags": []
          }
        }
      ]
    }
  ]
}